{
 "cells": [
  {
   "cell_type": "code",
   "execution_count": 1,
   "metadata": {},
   "outputs": [],
   "source": [
    "import pandas as pd"
   ]
  },
  {
   "cell_type": "code",
   "execution_count": 2,
   "metadata": {},
   "outputs": [],
   "source": [
    "data = pd.read_csv(\"data/train.csv\")"
   ]
  },
  {
   "cell_type": "code",
   "execution_count": 3,
   "metadata": {},
   "outputs": [],
   "source": [
    "data = data.drop(2479)"
   ]
  },
  {
   "cell_type": "code",
   "execution_count": 4,
   "metadata": {},
   "outputs": [],
   "source": [
    "holiday_list = pd.read_csv(\"data/holidays_in_japan.csv\")"
   ]
  },
  {
   "cell_type": "code",
   "execution_count": 5,
   "metadata": {},
   "outputs": [],
   "source": [
    "holiday_list_dict = dict(zip(holiday_list[\"holiday_date\"],holiday_list[\"description\"]))"
   ]
  },
  {
   "cell_type": "code",
   "execution_count": 6,
   "metadata": {},
   "outputs": [],
   "source": [
    "stadium_cap = pd.read_csv(\"data/stadium_capacity_mapping.csv\")"
   ]
  },
  {
   "cell_type": "code",
   "execution_count": 7,
   "metadata": {},
   "outputs": [],
   "source": [
    "stadium_cap\n",
    "stadium_cap_dict = dict(zip(stadium_cap[\"stadium\"], stadium_cap[\"capacity\"]))"
   ]
  },
  {
   "cell_type": "code",
   "execution_count": 8,
   "metadata": {},
   "outputs": [],
   "source": [
    "data[\"stadium_cap\"] = data[\"venue\"]"
   ]
  },
  {
   "cell_type": "code",
   "execution_count": 9,
   "metadata": {},
   "outputs": [],
   "source": [
    "data[\"stadium_cap\"] = data[\"stadium_cap\"].replace(stadium_cap_dict)"
   ]
  },
  {
   "cell_type": "code",
   "execution_count": 10,
   "metadata": {},
   "outputs": [],
   "source": [
    "data = data.replace(holiday_list_dict)"
   ]
  },
  {
   "cell_type": "code",
   "execution_count": 11,
   "metadata": {},
   "outputs": [],
   "source": [
    "data = data.replace(\"(.*)-(.*)-(.*)\", \"normal day\", regex=True)"
   ]
  },
  {
   "cell_type": "code",
   "execution_count": 12,
   "metadata": {},
   "outputs": [],
   "source": [
    "venue_list = pd.unique(data[\"venue\"])"
   ]
  },
  {
   "cell_type": "code",
   "execution_count": 13,
   "metadata": {},
   "outputs": [],
   "source": [
    "n = 4\n",
    "kick_off_time_list = pd.unique(data[\"kick_off_time\"]).tolist()\n",
    "kick_off_time_list.sort()\n",
    "n = len(kick_off_time_list)//4\n",
    "result = [kick_off_time_list[idx:idx + n] for idx in range(0,len(kick_off_time_list), n)]\n",
    "data.loc[data[\"kick_off_time\"].isin(result[0]), \"kick_off_time\"] = \"morning\"\n",
    "data.loc[data[\"kick_off_time\"].isin(result[1]), \"kick_off_time\"] = \"noon\"\n",
    "data.loc[data[\"kick_off_time\"].isin(result[2]), \"kick_off_time\"] = \"evening\"\n",
    "data.loc[data[\"kick_off_time\"].isin(result[3]), \"kick_off_time\"] = \"night\""
   ]
  },
  {
   "cell_type": "code",
   "execution_count": 14,
   "metadata": {},
   "outputs": [],
   "source": [
    "data = data.drop(\"broadcasters\", axis=1)"
   ]
  },
  {
   "cell_type": "code",
   "execution_count": 15,
   "metadata": {},
   "outputs": [],
   "source": [
    "data[\"weather\"] = data[\"weather\"].replace(\"^(?!.*雨).*$\", \"not rain\", regex=True)"
   ]
  },
  {
   "cell_type": "code",
   "execution_count": 16,
   "metadata": {},
   "outputs": [],
   "source": [
    "data = data.replace(\"(.*)雨(.*)\", \"rain\", regex=True)"
   ]
  },
  {
   "cell_type": "code",
   "execution_count": 17,
   "metadata": {},
   "outputs": [],
   "source": [
    "_data = pd.get_dummies(data, drop_first=True)"
   ]
  },
  {
   "cell_type": "code",
   "execution_count": 18,
   "metadata": {},
   "outputs": [],
   "source": [
    "pd.set_option('display.max_columns', 500)"
   ]
  },
  {
   "cell_type": "code",
   "execution_count": 19,
   "metadata": {},
   "outputs": [],
   "source": [
    "import xgboost"
   ]
  },
  {
   "cell_type": "code",
   "execution_count": 20,
   "metadata": {},
   "outputs": [],
   "source": [
    "from sklearn.model_selection import cross_val_score"
   ]
  },
  {
   "cell_type": "code",
   "execution_count": 21,
   "metadata": {
    "scrolled": false
   },
   "outputs": [],
   "source": [
    "mod = xgboost.XGBRegressor()"
   ]
  },
  {
   "cell_type": "code",
   "execution_count": 22,
   "metadata": {},
   "outputs": [],
   "source": [
    "teacher = _data[\"attendance\"]"
   ]
  },
  {
   "cell_type": "code",
   "execution_count": 23,
   "metadata": {},
   "outputs": [
    {
     "data": {
      "text/plain": [
       "0       20916\n",
       "1       14277\n",
       "2       22531\n",
       "3       28564\n",
       "4       17199\n",
       "5       13085\n",
       "6       17444\n",
       "7       17564\n",
       "8       23607\n",
       "9       56512\n",
       "10      11896\n",
       "11      40266\n",
       "12      13054\n",
       "13      22454\n",
       "14       7921\n",
       "15      12040\n",
       "16      17043\n",
       "17      30561\n",
       "18      19011\n",
       "19      10560\n",
       "20      16742\n",
       "21       9368\n",
       "22       9082\n",
       "23      22651\n",
       "24       8567\n",
       "25      19307\n",
       "26       8388\n",
       "27      14815\n",
       "28       8585\n",
       "29      43815\n",
       "        ...  \n",
       "3336     9894\n",
       "3337    43415\n",
       "3338    14975\n",
       "3339    15638\n",
       "3340    12106\n",
       "3341    10140\n",
       "3342    30282\n",
       "3343    10536\n",
       "3344    37317\n",
       "3345    23290\n",
       "3346    38380\n",
       "3347    29692\n",
       "3348    24000\n",
       "3349    11583\n",
       "3350    21198\n",
       "3351    11883\n",
       "3352    24896\n",
       "3353    26003\n",
       "3354    23313\n",
       "3355    22963\n",
       "3356    16676\n",
       "3357    19315\n",
       "3358    15925\n",
       "3359    56841\n",
       "3360    12377\n",
       "3361    25694\n",
       "3362    14676\n",
       "3363    27081\n",
       "3364    18474\n",
       "3365    13042\n",
       "Name: attendance, Length: 3365, dtype: int64"
      ]
     },
     "execution_count": 23,
     "metadata": {},
     "output_type": "execute_result"
    }
   ],
   "source": [
    "teacher"
   ]
  },
  {
   "cell_type": "code",
   "execution_count": 37,
   "metadata": {},
   "outputs": [],
   "source": [
    "train = _data.drop(\"attendance\", axis = 1)"
   ]
  },
  {
   "cell_type": "code",
   "execution_count": 38,
   "metadata": {},
   "outputs": [],
   "source": [
    "from sklearn.model_selection import GridSearchCV"
   ]
  },
  {
   "cell_type": "code",
   "execution_count": 39,
   "metadata": {},
   "outputs": [],
   "source": [
    "mod_cv = GridSearchCV(mod, {'max_depth': [2,4,6], 'n_estimators': [50,100,200]}, verbose=1)"
   ]
  },
  {
   "cell_type": "code",
   "execution_count": 40,
   "metadata": {},
   "outputs": [
    {
     "name": "stderr",
     "output_type": "stream",
     "text": [
      "D:\\Anaconda3\\envs\\signate_student_cup_2018\\lib\\site-packages\\sklearn\\model_selection\\_split.py:1943: FutureWarning: You should specify a value for 'cv' instead of relying on the default value. The default value will change from 3 to 5 in version 0.22.\n",
      "  warnings.warn(CV_WARNING, FutureWarning)\n"
     ]
    }
   ],
   "source": [
    "scores = cross_val_score(mod, train, teacher)"
   ]
  },
  {
   "cell_type": "code",
   "execution_count": 41,
   "metadata": {},
   "outputs": [
    {
     "name": "stdout",
     "output_type": "stream",
     "text": [
      "Cross-Validation scores: [0.66342088 0.69427877 0.61918549]\n"
     ]
    }
   ],
   "source": [
    "print('Cross-Validation scores: {}'.format(scores))"
   ]
  },
  {
   "cell_type": "code",
   "execution_count": 42,
   "metadata": {
    "scrolled": true
   },
   "outputs": [
    {
     "name": "stderr",
     "output_type": "stream",
     "text": [
      "D:\\Anaconda3\\envs\\signate_student_cup_2018\\lib\\site-packages\\sklearn\\model_selection\\_split.py:1943: FutureWarning: You should specify a value for 'cv' instead of relying on the default value. The default value will change from 3 to 5 in version 0.22.\n",
      "  warnings.warn(CV_WARNING, FutureWarning)\n",
      "[Parallel(n_jobs=-1)]: Using backend SequentialBackend with 1 concurrent workers.\n"
     ]
    },
    {
     "name": "stdout",
     "output_type": "stream",
     "text": [
      "Fitting 3 folds for each of 9 candidates, totalling 27 fits\n"
     ]
    },
    {
     "name": "stderr",
     "output_type": "stream",
     "text": [
      "[Parallel(n_jobs=-1)]: Done  27 out of  27 | elapsed:   33.8s finished\n",
      "D:\\Anaconda3\\envs\\signate_student_cup_2018\\lib\\site-packages\\sklearn\\model_selection\\_split.py:1943: FutureWarning: You should specify a value for 'cv' instead of relying on the default value. The default value will change from 3 to 5 in version 0.22.\n",
      "  warnings.warn(CV_WARNING, FutureWarning)\n",
      "[Parallel(n_jobs=-1)]: Using backend SequentialBackend with 1 concurrent workers.\n"
     ]
    },
    {
     "name": "stdout",
     "output_type": "stream",
     "text": [
      "Fitting 3 folds for each of 9 candidates, totalling 27 fits\n"
     ]
    },
    {
     "name": "stderr",
     "output_type": "stream",
     "text": [
      "[Parallel(n_jobs=-1)]: Done  27 out of  27 | elapsed:   33.7s finished\n",
      "D:\\Anaconda3\\envs\\signate_student_cup_2018\\lib\\site-packages\\sklearn\\model_selection\\_split.py:1943: FutureWarning: You should specify a value for 'cv' instead of relying on the default value. The default value will change from 3 to 5 in version 0.22.\n",
      "  warnings.warn(CV_WARNING, FutureWarning)\n",
      "[Parallel(n_jobs=-1)]: Using backend SequentialBackend with 1 concurrent workers.\n"
     ]
    },
    {
     "name": "stdout",
     "output_type": "stream",
     "text": [
      "Fitting 3 folds for each of 9 candidates, totalling 27 fits\n"
     ]
    },
    {
     "name": "stderr",
     "output_type": "stream",
     "text": [
      "[Parallel(n_jobs=-1)]: Done  27 out of  27 | elapsed:   33.9s finished\n"
     ]
    }
   ],
   "source": [
    "scores_cv = cross_val_score(mod_cv, train, teacher)"
   ]
  },
  {
   "cell_type": "code",
   "execution_count": 33,
   "metadata": {},
   "outputs": [
    {
     "name": "stdout",
     "output_type": "stream",
     "text": [
      "Cross-Validation scores: [0.67383031 0.69321876 0.61824992]\n"
     ]
    }
   ],
   "source": [
    "print('Cross-Validation scores: {}'.format(scores_cv))"
   ]
  },
  {
   "cell_type": "code",
   "execution_count": 34,
   "metadata": {},
   "outputs": [
    {
     "name": "stdout",
     "output_type": "stream",
     "text": [
      "Average score: 0.6589617116025592\n",
      "Average score cv: 0.6617663304645623\n"
     ]
    }
   ],
   "source": [
    "import numpy as np\n",
    "print('Average score: {}'.format(np.mean(scores)))\n",
    "print('Average score cv: {}'.format(np.mean(scores_cv)))"
   ]
  },
  {
   "cell_type": "code",
   "execution_count": null,
   "metadata": {},
   "outputs": [],
   "source": []
  }
 ],
 "metadata": {
  "kernelspec": {
   "display_name": "Python 3",
   "language": "python",
   "name": "python3"
  },
  "language_info": {
   "codemirror_mode": {
    "name": "ipython",
    "version": 3
   },
   "file_extension": ".py",
   "mimetype": "text/x-python",
   "name": "python",
   "nbconvert_exporter": "python",
   "pygments_lexer": "ipython3",
   "version": "3.6.5"
  }
 },
 "nbformat": 4,
 "nbformat_minor": 2
}
